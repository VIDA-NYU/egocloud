{
 "cells": [
  {
   "cell_type": "code",
   "execution_count": 1,
   "id": "a67baf98",
   "metadata": {},
   "outputs": [],
   "source": [
    "import sys \n",
    "import os\n",
    "import glob\n",
    "\n",
    "glob.glob('../egocloud/egocloud*')\n",
    "\n",
    "sys.path.append(os.path.abspath(\"../egocloud\"))\n",
    "from egocloud import Egocloud"
   ]
  },
  {
   "cell_type": "code",
   "execution_count": 2,
   "id": "09357e3c",
   "metadata": {},
   "outputs": [
    {
     "name": "stdout",
     "output_type": "stream",
     "text": [
      "['./Untitled.ipynb']\n"
     ]
    },
    {
     "data": {
      "text/plain": [
       "<egocloud.Egocloud at 0x7fb5f9e1d850>"
      ]
     },
     "execution_count": 2,
     "metadata": {},
     "output_type": "execute_result"
    }
   ],
   "source": [
    "Egocloud()"
   ]
  }
 ],
 "metadata": {
  "kernelspec": {
   "display_name": "Python 3 (ipykernel)",
   "language": "python",
   "name": "python3"
  },
  "language_info": {
   "codemirror_mode": {
    "name": "ipython",
    "version": 3
   },
   "file_extension": ".py",
   "mimetype": "text/x-python",
   "name": "python",
   "nbconvert_exporter": "python",
   "pygments_lexer": "ipython3",
   "version": "3.11.3"
  }
 },
 "nbformat": 4,
 "nbformat_minor": 5
}
